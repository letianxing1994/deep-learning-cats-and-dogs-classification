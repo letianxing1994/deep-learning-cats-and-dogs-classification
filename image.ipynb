{
 "cells": [
  {
   "cell_type": "code",
   "execution_count": null,
   "metadata": {},
   "outputs": [],
   "source": [
    "import keras\n",
    "from keras import backend as K\n",
    "import numpy as np\n",
    "import glob\n",
    "import random\n",
    "from keras.preprocessing import image\n",
    "import pandas as pd"
   ]
  },
  {
   "cell_type": "markdown",
   "metadata": {},
   "source": [
    "# dataset reading and processing, DO NOT run this cell casually!"
   ]
  },
  {
   "cell_type": "code",
   "execution_count": null,
   "metadata": {},
   "outputs": [],
   "source": [
    "K.set_image_data_format('channels_last')\n",
    "width, height = 64, 64\n",
    "filenames = glob.glob('train/*.jpg')\n",
    "\n",
    "data1 = []\n",
    "data2 = []\n",
    "data3 = []\n",
    "data4 = []\n",
    "data5 = []\n",
    "for index,item in enumerate(filenames):\n",
    "    temp_img = image.load_img(item, target_size=(width, height))\n",
    "    temp_x = image.img_to_array(temp_img)\n",
    "    if item[6:9]=='cat':\n",
    "        temp_y = 0\n",
    "    else:\n",
    "        temp_y = 1\n",
    "    print(index)\n",
    "    if index<=3800:\n",
    "        data1.append([temp_x, temp_y])\n",
    "    elif 3800<index and index<=7600:\n",
    "        data2.append([temp_x, temp_y])\n",
    "    elif 7600<index and index<=11400:\n",
    "        data3.append([temp_x, temp_y])\n",
    "    elif 11400<index:\n",
    "        data4.append([temp_x, temp_y])\n",
    "        \n",
    "np.save('data1', data1)\n",
    "np.save('data2', data2)\n",
    "np.save('data3', data3)\n",
    "np.save('data4', data4)\n",
    "\n",
    "# test set generation\n",
    "testsetfile = glob.glob('test/*.jpg')\n",
    "testdata = []\n",
    "label = []\n",
    "for i in testsetfile:\n",
    "    temp_img = image.load_img(i, target_size=(width, height))\n",
    "    temp_x = image.img_to_array(temp_img)\n",
    "    testdata.append(temp_x)\n",
    "    label.append(i[5:-4])\n",
    "    print(i[5:-4])\n",
    "    \n",
    "testdata = np.asarray(testdata)\n",
    "np.save('testdata', testdata)\n",
    "np.save('testdataID', label)"
   ]
  }
 ],
 "metadata": {
  "kernelspec": {
   "display_name": "Python 3",
   "language": "python",
   "name": "python3"
  },
  "language_info": {
   "codemirror_mode": {
    "name": "ipython",
    "version": 3
   },
   "file_extension": ".py",
   "mimetype": "text/x-python",
   "name": "python",
   "nbconvert_exporter": "python",
   "pygments_lexer": "ipython3",
   "version": "3.6.4"
  }
 },
 "nbformat": 4,
 "nbformat_minor": 2
}
